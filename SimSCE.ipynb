{
 "cells": [
  {
   "cell_type": "code",
   "execution_count": 1,
   "metadata": {
    "colab": {
     "base_uri": "https://localhost:8080/",
     "height": 304
    },
    "executionInfo": {
     "elapsed": 837,
     "status": "error",
     "timestamp": 1642257300017,
     "user": {
      "displayName": "Gökhan Güler",
      "photoUrl": "https://lh3.googleusercontent.com/a/default-user=s64",
      "userId": "08857571807592671770"
     },
     "user_tz": -180
    },
    "id": "odzohkQ_J4rr",
    "outputId": "5cff4727-6464-4f7d-8379-9786943ee91b"
   },
   "outputs": [],
   "source": [
    "import os\n",
    "os.environ['TRANSFORMERS_CACHE'] = 'transformers'\n",
    "from simcse import SimCSE"
   ]
  },
  {
   "cell_type": "code",
   "execution_count": 4,
   "metadata": {},
   "outputs": [
    {
     "name": "stderr",
     "output_type": "stream",
     "text": [
      "01/16/2022 16:46:53 - INFO - simcse.tool -   Use `cls_before_pooler` for unsupervised models. If you want to use other pooling policy, specify `pooler` argument.\n"
     ]
    }
   ],
   "source": [
    "models = [\n",
    "    \"princeton-nlp/unsup-simcse-bert-base-uncased\",\n",
    "    \"princeton-nlp/unsup-simcse-bert-large-uncased\",\n",
    "    \"princeton-nlp/unsup-simcse-roberta-base\",\n",
    "    \"princeton-nlp/unsup-simcse-roberta-large\",\n",
    "    \"princeton-nlp/sup-simcse-bert-base-uncased\",\n",
    "    \"princeton-nlp/sup-simcse-bert-large-uncased\",\n",
    "    \"princeton-nlp/sup-simcse-roberta-base\",\n",
    "    \"princeton-nlp/sup-simcse-roberta-large\"\n",
    "]\n",
    "model_name = models[0]\n",
    "model = SimCSE(model_name)"
   ]
  },
  {
   "cell_type": "code",
   "execution_count": null,
   "metadata": {},
   "outputs": [],
   "source": [
    "%run evaluation.py --model_name_or_path princeton-nlp/unsup-simcse-bert-base-uncased --pooler cls --task_set sts --mode test"
   ]
  },
  {
   "cell_type": "code",
   "execution_count": null,
   "metadata": {},
   "outputs": [],
   "source": []
  }
 ],
 "metadata": {
  "colab": {
   "authorship_tag": "ABX9TyNXQB6WeJRObJLKTEgtgTA6",
   "collapsed_sections": [],
   "name": "SimSCE.ipynb",
   "provenance": []
  },
  "kernelspec": {
   "display_name": "Python 3",
   "language": "python",
   "name": "python3"
  },
  "language_info": {
   "codemirror_mode": {
    "name": "ipython",
    "version": 3
   },
   "file_extension": ".py",
   "mimetype": "text/x-python",
   "name": "python",
   "nbconvert_exporter": "python",
   "pygments_lexer": "ipython3",
   "version": "3.8.8"
  }
 },
 "nbformat": 4,
 "nbformat_minor": 1
}
